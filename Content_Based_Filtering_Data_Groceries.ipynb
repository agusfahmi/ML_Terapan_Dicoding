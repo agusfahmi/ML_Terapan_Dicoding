{
 "cells": [
  {
   "cell_type": "code",
   "execution_count": 1,
   "metadata": {
    "colab": {
     "base_uri": "https://localhost:8080/"
    },
    "id": "71gVmyps79j9",
    "outputId": "edffc82d-a75b-4af2-9f4d-b359ef6945a6"
   },
   "outputs": [
    {
     "name": "stdout",
     "output_type": "stream",
     "text": [
      "Requirement already satisfied: opendatasets in c:\\users\\lenovo\\appdata\\local\\programs\\python\\python39\\lib\\site-packages (0.1.22)\n",
      "Requirement already satisfied: tqdm in c:\\users\\lenovo\\appdata\\local\\programs\\python\\python39\\lib\\site-packages (from opendatasets) (4.64.1)\n",
      "Requirement already satisfied: kaggle in c:\\users\\lenovo\\appdata\\local\\programs\\python\\python39\\lib\\site-packages (from opendatasets) (1.5.16)\n",
      "Requirement already satisfied: click in c:\\users\\lenovo\\appdata\\local\\programs\\python\\python39\\lib\\site-packages (from opendatasets) (8.1.3)\n",
      "Requirement already satisfied: colorama in c:\\users\\lenovo\\appdata\\local\\programs\\python\\python39\\lib\\site-packages (from click->opendatasets) (0.4.4)\n",
      "Requirement already satisfied: six>=1.10 in c:\\users\\lenovo\\appdata\\local\\programs\\python\\python39\\lib\\site-packages (from kaggle->opendatasets) (1.16.0)\n",
      "Requirement already satisfied: certifi in c:\\users\\lenovo\\appdata\\local\\programs\\python\\python39\\lib\\site-packages (from kaggle->opendatasets) (2021.5.30)\n",
      "Requirement already satisfied: python-dateutil in c:\\users\\lenovo\\appdata\\local\\programs\\python\\python39\\lib\\site-packages (from kaggle->opendatasets) (2.8.2)\n",
      "Requirement already satisfied: requests in c:\\users\\lenovo\\appdata\\roaming\\python\\python39\\site-packages (from kaggle->opendatasets) (2.31.0)\n",
      "Requirement already satisfied: python-slugify in c:\\users\\lenovo\\appdata\\local\\programs\\python\\python39\\lib\\site-packages (from kaggle->opendatasets) (8.0.1)\n",
      "Requirement already satisfied: urllib3 in c:\\users\\lenovo\\appdata\\local\\programs\\python\\python39\\lib\\site-packages (from kaggle->opendatasets) (1.26.6)\n",
      "Requirement already satisfied: bleach in c:\\users\\lenovo\\appdata\\local\\programs\\python\\python39\\lib\\site-packages (from kaggle->opendatasets) (4.1.0)\n",
      "Requirement already satisfied: packaging in c:\\users\\lenovo\\appdata\\local\\programs\\python\\python39\\lib\\site-packages (from bleach->kaggle->opendatasets) (21.3)\n",
      "Requirement already satisfied: webencodings in c:\\users\\lenovo\\appdata\\local\\programs\\python\\python39\\lib\\site-packages (from bleach->kaggle->opendatasets) (0.5.1)\n",
      "Requirement already satisfied: text-unidecode>=1.3 in c:\\users\\lenovo\\appdata\\local\\programs\\python\\python39\\lib\\site-packages (from python-slugify->kaggle->opendatasets) (1.3)\n",
      "Requirement already satisfied: charset-normalizer<4,>=2 in c:\\users\\lenovo\\appdata\\local\\programs\\python\\python39\\lib\\site-packages (from requests->kaggle->opendatasets) (2.1.1)\n",
      "Requirement already satisfied: idna<4,>=2.5 in c:\\users\\lenovo\\appdata\\local\\programs\\python\\python39\\lib\\site-packages (from requests->kaggle->opendatasets) (2.10)\n",
      "Requirement already satisfied: pyparsing!=3.0.5,>=2.0.2 in c:\\users\\lenovo\\appdata\\local\\programs\\python\\python39\\lib\\site-packages (from packaging->bleach->kaggle->opendatasets) (2.4.7)\n"
     ]
    }
   ],
   "source": [
    "!pip install opendatasets\n"
   ]
  },
  {
   "cell_type": "markdown",
   "metadata": {},
   "source": [
    "Install library opendataset untuk unduh dataset langsung dari kaggle"
   ]
  },
  {
   "cell_type": "code",
   "execution_count": 2,
   "metadata": {
    "id": "943RQDkN8OfC"
   },
   "outputs": [],
   "source": [
    "import opendatasets as od\n",
    "import pandas as pd\n"
   ]
  },
  {
   "cell_type": "markdown",
   "metadata": {},
   "source": [
    "Mengimport beberapa library sebagai pendukung program"
   ]
  },
  {
   "cell_type": "code",
   "execution_count": 3,
   "metadata": {
    "colab": {
     "base_uri": "https://localhost:8080/"
    },
    "id": "ng2xvYHd8StQ",
    "outputId": "d49bfd48-3926-41c1-f735-501a85ce5e0c"
   },
   "outputs": [
    {
     "name": "stdout",
     "output_type": "stream",
     "text": [
      "Skipping, found downloaded files in \".\\groceries-dataset-for-market-basket-analysismba\" (use force=True to force download)\n"
     ]
    }
   ],
   "source": [
    "od.download('https://www.kaggle.com/datasets/rashikrahmanpritom/groceries-dataset-for-market-basket-analysismba')"
   ]
  },
  {
   "cell_type": "markdown",
   "metadata": {},
   "source": [
    "Mengunduh data dari kaggle menggunakan link"
   ]
  },
  {
   "cell_type": "code",
   "execution_count": 4,
   "metadata": {
    "colab": {
     "base_uri": "https://localhost:8080/",
     "height": 423
    },
    "id": "XkurH9Rm8XJb",
    "outputId": "7a96b407-21b7-4b5e-ae05-133257850c1d"
   },
   "outputs": [
    {
     "data": {
      "text/html": [
       "<div>\n",
       "<style scoped>\n",
       "    .dataframe tbody tr th:only-of-type {\n",
       "        vertical-align: middle;\n",
       "    }\n",
       "\n",
       "    .dataframe tbody tr th {\n",
       "        vertical-align: top;\n",
       "    }\n",
       "\n",
       "    .dataframe thead th {\n",
       "        text-align: right;\n",
       "    }\n",
       "</style>\n",
       "<table border=\"1\" class=\"dataframe\">\n",
       "  <thead>\n",
       "    <tr style=\"text-align: right;\">\n",
       "      <th></th>\n",
       "      <th>Member_number</th>\n",
       "      <th>Date</th>\n",
       "      <th>itemDescription</th>\n",
       "      <th>year</th>\n",
       "      <th>month</th>\n",
       "      <th>day</th>\n",
       "      <th>day_of_week</th>\n",
       "    </tr>\n",
       "  </thead>\n",
       "  <tbody>\n",
       "    <tr>\n",
       "      <th>0</th>\n",
       "      <td>1808</td>\n",
       "      <td>2015-07-21</td>\n",
       "      <td>tropical fruit</td>\n",
       "      <td>2015</td>\n",
       "      <td>7</td>\n",
       "      <td>21</td>\n",
       "      <td>1</td>\n",
       "    </tr>\n",
       "    <tr>\n",
       "      <th>1</th>\n",
       "      <td>2552</td>\n",
       "      <td>2015-05-01</td>\n",
       "      <td>whole milk</td>\n",
       "      <td>2015</td>\n",
       "      <td>5</td>\n",
       "      <td>1</td>\n",
       "      <td>4</td>\n",
       "    </tr>\n",
       "    <tr>\n",
       "      <th>2</th>\n",
       "      <td>2300</td>\n",
       "      <td>2015-09-19</td>\n",
       "      <td>pip fruit</td>\n",
       "      <td>2015</td>\n",
       "      <td>9</td>\n",
       "      <td>19</td>\n",
       "      <td>5</td>\n",
       "    </tr>\n",
       "    <tr>\n",
       "      <th>3</th>\n",
       "      <td>1187</td>\n",
       "      <td>2015-12-12</td>\n",
       "      <td>other vegetables</td>\n",
       "      <td>2015</td>\n",
       "      <td>12</td>\n",
       "      <td>12</td>\n",
       "      <td>5</td>\n",
       "    </tr>\n",
       "    <tr>\n",
       "      <th>4</th>\n",
       "      <td>3037</td>\n",
       "      <td>2015-01-02</td>\n",
       "      <td>whole milk</td>\n",
       "      <td>2015</td>\n",
       "      <td>1</td>\n",
       "      <td>2</td>\n",
       "      <td>4</td>\n",
       "    </tr>\n",
       "    <tr>\n",
       "      <th>...</th>\n",
       "      <td>...</td>\n",
       "      <td>...</td>\n",
       "      <td>...</td>\n",
       "      <td>...</td>\n",
       "      <td>...</td>\n",
       "      <td>...</td>\n",
       "      <td>...</td>\n",
       "    </tr>\n",
       "    <tr>\n",
       "      <th>38760</th>\n",
       "      <td>4471</td>\n",
       "      <td>2014-08-10</td>\n",
       "      <td>sliced cheese</td>\n",
       "      <td>2014</td>\n",
       "      <td>8</td>\n",
       "      <td>10</td>\n",
       "      <td>6</td>\n",
       "    </tr>\n",
       "    <tr>\n",
       "      <th>38761</th>\n",
       "      <td>2022</td>\n",
       "      <td>2014-02-23</td>\n",
       "      <td>candy</td>\n",
       "      <td>2014</td>\n",
       "      <td>2</td>\n",
       "      <td>23</td>\n",
       "      <td>6</td>\n",
       "    </tr>\n",
       "    <tr>\n",
       "      <th>38762</th>\n",
       "      <td>1097</td>\n",
       "      <td>2014-04-16</td>\n",
       "      <td>cake bar</td>\n",
       "      <td>2014</td>\n",
       "      <td>4</td>\n",
       "      <td>16</td>\n",
       "      <td>2</td>\n",
       "    </tr>\n",
       "    <tr>\n",
       "      <th>38763</th>\n",
       "      <td>1510</td>\n",
       "      <td>2014-03-12</td>\n",
       "      <td>fruit/vegetable juice</td>\n",
       "      <td>2014</td>\n",
       "      <td>3</td>\n",
       "      <td>12</td>\n",
       "      <td>2</td>\n",
       "    </tr>\n",
       "    <tr>\n",
       "      <th>38764</th>\n",
       "      <td>1521</td>\n",
       "      <td>2014-12-26</td>\n",
       "      <td>cat food</td>\n",
       "      <td>2014</td>\n",
       "      <td>12</td>\n",
       "      <td>26</td>\n",
       "      <td>4</td>\n",
       "    </tr>\n",
       "  </tbody>\n",
       "</table>\n",
       "<p>38765 rows × 7 columns</p>\n",
       "</div>"
      ],
      "text/plain": [
       "       Member_number        Date        itemDescription  year  month  day   \n",
       "0               1808  2015-07-21         tropical fruit  2015      7   21  \\\n",
       "1               2552  2015-05-01             whole milk  2015      5    1   \n",
       "2               2300  2015-09-19              pip fruit  2015      9   19   \n",
       "3               1187  2015-12-12       other vegetables  2015     12   12   \n",
       "4               3037  2015-01-02             whole milk  2015      1    2   \n",
       "...              ...         ...                    ...   ...    ...  ...   \n",
       "38760           4471  2014-08-10          sliced cheese  2014      8   10   \n",
       "38761           2022  2014-02-23                  candy  2014      2   23   \n",
       "38762           1097  2014-04-16               cake bar  2014      4   16   \n",
       "38763           1510  2014-03-12  fruit/vegetable juice  2014      3   12   \n",
       "38764           1521  2014-12-26               cat food  2014     12   26   \n",
       "\n",
       "       day_of_week  \n",
       "0                1  \n",
       "1                4  \n",
       "2                5  \n",
       "3                5  \n",
       "4                4  \n",
       "...            ...  \n",
       "38760            6  \n",
       "38761            6  \n",
       "38762            2  \n",
       "38763            2  \n",
       "38764            4  \n",
       "\n",
       "[38765 rows x 7 columns]"
      ]
     },
     "execution_count": 4,
     "metadata": {},
     "output_type": "execute_result"
    }
   ],
   "source": [
    "df = pd.read_csv('groceries-dataset-for-market-basket-analysismba/Groceries data.csv')\n",
    "df"
   ]
  },
  {
   "cell_type": "markdown",
   "metadata": {},
   "source": [
    "Membuat dataframe yang berisi dataset"
   ]
  },
  {
   "cell_type": "code",
   "execution_count": 5,
   "metadata": {
    "id": "fi1uvJVl9AgF"
   },
   "outputs": [],
   "source": [
    "columns_to_drop = ['year', 'month', 'day', 'day_of_week']\n",
    "df.drop(columns=columns_to_drop, inplace=True)"
   ]
  },
  {
   "cell_type": "markdown",
   "metadata": {},
   "source": [
    "Menghapus kolom yang tidak diperlukan"
   ]
  },
  {
   "cell_type": "code",
   "execution_count": 6,
   "metadata": {
    "colab": {
     "base_uri": "https://localhost:8080/",
     "height": 423
    },
    "id": "kQwDaAQC9A9g",
    "outputId": "2a357e2b-e35e-4d02-c0c4-fa7f5936b438"
   },
   "outputs": [
    {
     "data": {
      "text/html": [
       "<div>\n",
       "<style scoped>\n",
       "    .dataframe tbody tr th:only-of-type {\n",
       "        vertical-align: middle;\n",
       "    }\n",
       "\n",
       "    .dataframe tbody tr th {\n",
       "        vertical-align: top;\n",
       "    }\n",
       "\n",
       "    .dataframe thead th {\n",
       "        text-align: right;\n",
       "    }\n",
       "</style>\n",
       "<table border=\"1\" class=\"dataframe\">\n",
       "  <thead>\n",
       "    <tr style=\"text-align: right;\">\n",
       "      <th></th>\n",
       "      <th>Member_number</th>\n",
       "      <th>Date</th>\n",
       "      <th>itemDescription</th>\n",
       "    </tr>\n",
       "  </thead>\n",
       "  <tbody>\n",
       "    <tr>\n",
       "      <th>0</th>\n",
       "      <td>1808</td>\n",
       "      <td>2015-07-21</td>\n",
       "      <td>tropical fruit</td>\n",
       "    </tr>\n",
       "    <tr>\n",
       "      <th>1</th>\n",
       "      <td>2552</td>\n",
       "      <td>2015-05-01</td>\n",
       "      <td>whole milk</td>\n",
       "    </tr>\n",
       "    <tr>\n",
       "      <th>2</th>\n",
       "      <td>2300</td>\n",
       "      <td>2015-09-19</td>\n",
       "      <td>pip fruit</td>\n",
       "    </tr>\n",
       "    <tr>\n",
       "      <th>3</th>\n",
       "      <td>1187</td>\n",
       "      <td>2015-12-12</td>\n",
       "      <td>other vegetables</td>\n",
       "    </tr>\n",
       "    <tr>\n",
       "      <th>4</th>\n",
       "      <td>3037</td>\n",
       "      <td>2015-01-02</td>\n",
       "      <td>whole milk</td>\n",
       "    </tr>\n",
       "    <tr>\n",
       "      <th>...</th>\n",
       "      <td>...</td>\n",
       "      <td>...</td>\n",
       "      <td>...</td>\n",
       "    </tr>\n",
       "    <tr>\n",
       "      <th>38760</th>\n",
       "      <td>4471</td>\n",
       "      <td>2014-08-10</td>\n",
       "      <td>sliced cheese</td>\n",
       "    </tr>\n",
       "    <tr>\n",
       "      <th>38761</th>\n",
       "      <td>2022</td>\n",
       "      <td>2014-02-23</td>\n",
       "      <td>candy</td>\n",
       "    </tr>\n",
       "    <tr>\n",
       "      <th>38762</th>\n",
       "      <td>1097</td>\n",
       "      <td>2014-04-16</td>\n",
       "      <td>cake bar</td>\n",
       "    </tr>\n",
       "    <tr>\n",
       "      <th>38763</th>\n",
       "      <td>1510</td>\n",
       "      <td>2014-03-12</td>\n",
       "      <td>fruit/vegetable juice</td>\n",
       "    </tr>\n",
       "    <tr>\n",
       "      <th>38764</th>\n",
       "      <td>1521</td>\n",
       "      <td>2014-12-26</td>\n",
       "      <td>cat food</td>\n",
       "    </tr>\n",
       "  </tbody>\n",
       "</table>\n",
       "<p>38765 rows × 3 columns</p>\n",
       "</div>"
      ],
      "text/plain": [
       "       Member_number        Date        itemDescription\n",
       "0               1808  2015-07-21         tropical fruit\n",
       "1               2552  2015-05-01             whole milk\n",
       "2               2300  2015-09-19              pip fruit\n",
       "3               1187  2015-12-12       other vegetables\n",
       "4               3037  2015-01-02             whole milk\n",
       "...              ...         ...                    ...\n",
       "38760           4471  2014-08-10          sliced cheese\n",
       "38761           2022  2014-02-23                  candy\n",
       "38762           1097  2014-04-16               cake bar\n",
       "38763           1510  2014-03-12  fruit/vegetable juice\n",
       "38764           1521  2014-12-26               cat food\n",
       "\n",
       "[38765 rows x 3 columns]"
      ]
     },
     "execution_count": 6,
     "metadata": {},
     "output_type": "execute_result"
    }
   ],
   "source": [
    "df"
   ]
  },
  {
   "cell_type": "code",
   "execution_count": 7,
   "metadata": {
    "id": "YabWmrjFih1f"
   },
   "outputs": [],
   "source": [
    "df['itemDescription'] = df['itemDescription'].str.lower()\n",
    "df['itemDescription'] = df['itemDescription'].str.replace('/', ' ')"
   ]
  },
  {
   "cell_type": "markdown",
   "metadata": {},
   "source": [
    "Mengubah isi kolom 'itemDescription' agar menggunakan huruf kecil dan menghilangkan '/'"
   ]
  },
  {
   "cell_type": "code",
   "execution_count": 8,
   "metadata": {
    "id": "NhNG-CrqV0-0"
   },
   "outputs": [],
   "source": [
    "nilai_ambigu = ['rum', 'specialty fat','misc. beverages', 'tidbits','liquor (appetizer)','liquor','ham', 'prosecco',\n",
    "                'liver loaf', 'zwieback','oil', 'bottled beer', 'other vegetables','semi-finished bread',\n",
    "                'flower (seeds)','roll products ']\n",
    "nilai_pengganti = ['meat', 'egg', 'fish','milk', 'milk', 'fish','tea','liqueur','chicken', 'meat', 'cow liver',\n",
    "                   'chicken','hotdog', 'sandwich', 'vegetables','egg','meat','meat']\n",
    "\n",
    "# Lakukan penggantian berdasarkan pasangan nilai ambigu dan nilai pengganti\n",
    "for i in range(len(nilai_ambigu)):\n",
    "    df['itemDescription'] = df['itemDescription'].replace(nilai_ambigu[i], nilai_pengganti[i])\n",
    "\n",
    "# Periksa nilai unik dalam kolom 'itemDescription' setelah penggantian\n",
    "nilai_unik_setelah_penggantian = df['itemDescription'].unique()"
   ]
  },
  {
   "cell_type": "markdown",
   "metadata": {},
   "source": [
    "Mengubah data nilai ambigu menjadi kata yang mudah dipahami"
   ]
  },
  {
   "cell_type": "code",
   "execution_count": 9,
   "metadata": {
    "id": "ekNNLOEQDjqb"
   },
   "outputs": [],
   "source": [
    "#MENAMBAHKAN KATEGORI\n",
    "#Sayur dan BUah\n",
    "keywords = ['tropical fruit','pip fruit','citrus fruit','packaged fruit vegetables','vegetables',\n",
    "            'fruit vegetable juice','root vegetables','frozen vegetables','berries','grapes',\n",
    "            'sparkling wine','canned fruit','frozen fruits','pickled vegetables','canned vegetables'\n",
    "            ,'specialty vegetables','salad dressing']\n",
    "lowercase_list = [x.lower() for x in keywords]\n",
    "df.loc[df['itemDescription'].isin(lowercase_list), 'Category'] = 'Fruit & Vegetable'\n"
   ]
  },
  {
   "cell_type": "code",
   "execution_count": 10,
   "metadata": {
    "id": "LcS2jg96Zu5U"
   },
   "outputs": [],
   "source": [
    "#Daging\n",
    "keywords = ['beef', 'chicken', 'hamburger meat', 'fish', 'frozen chicken', 'meat',\n",
    "            'frozen meals', 'turkey', 'frozen fish', 'canned fish', 'meat spreads','cow liver']\n",
    "lowercase_list = [x.lower() for x in keywords]\n",
    "df.loc[df['itemDescription'].isin(lowercase_list), 'Category'] = 'Meat '\n"
   ]
  },
  {
   "cell_type": "code",
   "execution_count": 11,
   "metadata": {
    "id": "4Ke8BdQ3D9mq"
   },
   "outputs": [],
   "source": [
    "#MAKANAN DAN MINUMAN\n",
    "keywords = ['whole milk', 'rolls buns', 'pot plants', 'chocolate', 'sausage', 'yogurt',\n",
    "            'butter milk', 'brown bread', 'coffee', 'white wine', 'frankfurter', 'processed cheese',\n",
    "            'pasta', 'dessert', 'UHT-milk', 'popcorn', 'frozen potato products', 'candy', 'domestic eggs',\n",
    "            'instant food products', 'condensed milk', 'hard cheese', 'cream cheese', 'hotdog', 'pastry',\n",
    "            'specialty bar', 'canned beer', 'specialty cheese', 'salt', 'curd cheese', 'red blush wine',\n",
    "            'ice cream', 'tea', 'specialty chocolate', 'beverages', 'sandwich', 'nuts prunes', 'white bread',\n",
    "            'salty snack', 'potato products', 'chewing gum', 'brandy', 'soups', 'instant coffee',\n",
    "            'snack products', 'whisky', 'tidbits', 'nutsnack', 'cocoa drinks', 'syrup', 'honey',\n",
    "            'jam', 'ready soups', 'cake bar', 'liqueur', 'seasonal products','milk','nut snack']\n",
    "lowercase_list = [x.lower() for x in keywords]\n",
    "df.loc[df['itemDescription'].isin(lowercase_list), 'Category'] = 'Food & Drink '\n"
   ]
  },
  {
   "cell_type": "code",
   "execution_count": 12,
   "metadata": {
    "id": "GLaYmVOacWAk"
   },
   "outputs": [],
   "source": [
    "#ALAT\n",
    "keywords = ['pork', 'detergent', 'bottled water', 'photo film', 'shopping bags', 'newspapers', 'cleaner',\n",
    "            'dish cleaner', 'hairspray', 'decalcifier', 'light bulbs', 'cook ware', 'bathroom cleaner',\n",
    "            'napkins', 'candles', 'kitchen utensil', 'toilet cleaner','cling film bags',\n",
    "            'house keeping products','artif. sweetener','cookware']\n",
    "lowercase_list = [x.lower() for x in keywords]\n",
    "df.loc[df['itemDescription'].isin(lowercase_list), 'Category'] = 'Tools'"
   ]
  },
  {
   "cell_type": "code",
   "execution_count": 13,
   "metadata": {
    "id": "eb-L4HMqc1Z_"
   },
   "outputs": [],
   "source": [
    "#Non food\n",
    "keywords = ['soap', 'dog food', 'cat food', 'finished products', 'pet care', 'female sanitary products',\n",
    "            'clingfilm bags', 'housekeeping products', 'hygiene articles', 'baby cosmetics', 'bags',\n",
    "            'dental care', 'kitchen towels', 'flowersoil fertilizer', 'male cosmetics', 'dishes', 'skin care',\n",
    "            'make up remover', 'flower seeds', 'organic products', 'rubbing alcohol', 'softener',\n",
    "            'abrasive cleaner','hair spray','flower soil fertilizer']\n",
    "lowercase_list = [x.lower() for x in keywords]\n",
    "df.loc[df['itemDescription'].isin(lowercase_list), 'Category'] = 'Goods'"
   ]
  },
  {
   "cell_type": "code",
   "execution_count": 14,
   "metadata": {
    "id": "OjvL4O5XdNEy"
   },
   "outputs": [],
   "source": [
    "#bahan makanan\n",
    "keywords = ['flour', 'sugar', 'herbs', 'curd', 'butter', 'onions', 'sliced cheese', 'whipped sour cream',\n",
    "            'baking powder', 'spread cheese', 'frozen dessert', 'vinegar', 'artificialsweetener',\n",
    "            'semi finished bread', 'waffles', 'sauces', 'chocolate marshmallow', 'long life bakery product',\n",
    "            'sweets preads', 'spices', 'mustard', 'softcheese', 'organic sausage', 'mayonnaise', 'cereals',\n",
    "            'cooking chocolate', 'rice', 'ketchup', 'cream', 'preservation products', 'pudding powder','soda',\n",
    "            'egg','cream cheese ','margarine','soft cheese','sweet spreads']\n",
    "lowercase_list = [x.lower() for x in keywords]\n",
    "df.loc[df['itemDescription'].isin(lowercase_list), 'Category'] = 'Foodstuffs'"
   ]
  },
  {
   "cell_type": "markdown",
   "metadata": {},
   "source": [
    "Menambahkan kolom baru bernama kategori untuk mengelompokkan barang agar mudah dikenali oleh mesin"
   ]
  },
  {
   "cell_type": "code",
   "execution_count": 15,
   "metadata": {
    "colab": {
     "base_uri": "https://localhost:8080/"
    },
    "id": "HLORdmq1d85z",
    "outputId": "b4ec76a0-511b-4c30-92a4-7d4b5ee6be5d"
   },
   "outputs": [
    {
     "name": "stdout",
     "output_type": "stream",
     "text": [
      "Missing values in Member_number: 0\n",
      "Missing values in Date: 0\n",
      "Missing values in itemDescription: 0\n"
     ]
    }
   ],
   "source": [
    "missing_values = df[['Member_number', 'Date', 'itemDescription']].isnull().sum()\n",
    "\n",
    "print(\"Missing values in Member_number:\", missing_values['Member_number'])\n",
    "print(\"Missing values in Date:\", missing_values['Date'])\n",
    "print(\"Missing values in itemDescription:\", missing_values['itemDescription'])"
   ]
  },
  {
   "cell_type": "markdown",
   "metadata": {},
   "source": [
    "Cek nilai miss pada data frame"
   ]
  },
  {
   "cell_type": "code",
   "execution_count": 16,
   "metadata": {
    "colab": {
     "base_uri": "https://localhost:8080/",
     "height": 206
    },
    "id": "rFs9sOFDow6N",
    "outputId": "80bd92dd-19ad-4365-9c08-c4528af90b71"
   },
   "outputs": [
    {
     "data": {
      "text/html": [
       "<div>\n",
       "<style scoped>\n",
       "    .dataframe tbody tr th:only-of-type {\n",
       "        vertical-align: middle;\n",
       "    }\n",
       "\n",
       "    .dataframe tbody tr th {\n",
       "        vertical-align: top;\n",
       "    }\n",
       "\n",
       "    .dataframe thead th {\n",
       "        text-align: right;\n",
       "    }\n",
       "</style>\n",
       "<table border=\"1\" class=\"dataframe\">\n",
       "  <thead>\n",
       "    <tr style=\"text-align: right;\">\n",
       "      <th></th>\n",
       "      <th>Member_number</th>\n",
       "      <th>Date</th>\n",
       "      <th>itemDescription</th>\n",
       "      <th>Category</th>\n",
       "    </tr>\n",
       "  </thead>\n",
       "  <tbody>\n",
       "    <tr>\n",
       "      <th>0</th>\n",
       "      <td>1808</td>\n",
       "      <td>2015-07-21</td>\n",
       "      <td>tropical fruit</td>\n",
       "      <td>Fruit &amp; Vegetable</td>\n",
       "    </tr>\n",
       "    <tr>\n",
       "      <th>1</th>\n",
       "      <td>2552</td>\n",
       "      <td>2015-05-01</td>\n",
       "      <td>whole milk</td>\n",
       "      <td>Food &amp; Drink</td>\n",
       "    </tr>\n",
       "    <tr>\n",
       "      <th>2</th>\n",
       "      <td>2300</td>\n",
       "      <td>2015-09-19</td>\n",
       "      <td>pip fruit</td>\n",
       "      <td>Fruit &amp; Vegetable</td>\n",
       "    </tr>\n",
       "    <tr>\n",
       "      <th>3</th>\n",
       "      <td>1187</td>\n",
       "      <td>2015-12-12</td>\n",
       "      <td>hotdog</td>\n",
       "      <td>Food &amp; Drink</td>\n",
       "    </tr>\n",
       "    <tr>\n",
       "      <th>4</th>\n",
       "      <td>3037</td>\n",
       "      <td>2015-01-02</td>\n",
       "      <td>whole milk</td>\n",
       "      <td>Food &amp; Drink</td>\n",
       "    </tr>\n",
       "  </tbody>\n",
       "</table>\n",
       "</div>"
      ],
      "text/plain": [
       "   Member_number        Date itemDescription           Category\n",
       "0           1808  2015-07-21  tropical fruit  Fruit & Vegetable\n",
       "1           2552  2015-05-01      whole milk      Food & Drink \n",
       "2           2300  2015-09-19       pip fruit  Fruit & Vegetable\n",
       "3           1187  2015-12-12          hotdog      Food & Drink \n",
       "4           3037  2015-01-02      whole milk      Food & Drink "
      ]
     },
     "execution_count": 16,
     "metadata": {},
     "output_type": "execute_result"
    }
   ],
   "source": [
    "df.head()"
   ]
  },
  {
   "cell_type": "code",
   "execution_count": 17,
   "metadata": {
    "colab": {
     "base_uri": "https://localhost:8080/"
    },
    "id": "SfBTq-NrlUEf",
    "outputId": "6d106594-b17f-48fb-b070-454e8a4a17e3"
   },
   "outputs": [
    {
     "data": {
      "text/plain": [
       "3898"
      ]
     },
     "execution_count": 17,
     "metadata": {},
     "output_type": "execute_result"
    }
   ],
   "source": [
    "len(df.\tMember_number.unique())"
   ]
  },
  {
   "cell_type": "code",
   "execution_count": 18,
   "metadata": {
    "colab": {
     "base_uri": "https://localhost:8080/"
    },
    "id": "7jcdR49Vo-Q-",
    "outputId": "e7fdad11-3dfe-4fcb-c3e4-0099287eaadb"
   },
   "outputs": [
    {
     "name": "stdout",
     "output_type": "stream",
     "text": [
      "Member_number      0\n",
      "Date               0\n",
      "itemDescription    0\n",
      "Category           0\n",
      "dtype: int64\n"
     ]
    }
   ],
   "source": [
    "print(df.isnull().sum())"
   ]
  },
  {
   "cell_type": "code",
   "execution_count": 19,
   "metadata": {
    "id": "kKDm5KclpEBC"
   },
   "outputs": [],
   "source": [
    "import numpy as np\n",
    "from sklearn.feature_extraction.text import TfidfVectorizer\n",
    "from sklearn.metrics.pairwise import pairwise_distances"
   ]
  },
  {
   "cell_type": "markdown",
   "metadata": {},
   "source": [
    "Mengimport beberapa library sebagai pendukung program"
   ]
  },
  {
   "cell_type": "code",
   "execution_count": 20,
   "metadata": {
    "id": "xn45xBLspAIE"
   },
   "outputs": [],
   "source": [
    "tfidf = TfidfVectorizer()\n",
    "tfidf_matrix = tfidf.fit_transform(df[\"Category\"])"
   ]
  },
  {
   "cell_type": "markdown",
   "metadata": {},
   "source": [
    "Convert data pada kolom kategori ke dalam vector menggunakan library TfidVectorizer"
   ]
  },
  {
   "cell_type": "code",
   "execution_count": 21,
   "metadata": {
    "colab": {
     "base_uri": "https://localhost:8080/"
    },
    "id": "qT3E3io5pKca",
    "outputId": "60ffd5ae-d565-4d22-dd30-a090b3ae6905"
   },
   "outputs": [
    {
     "data": {
      "text/plain": [
       "(38765, 8)"
      ]
     },
     "execution_count": 21,
     "metadata": {},
     "output_type": "execute_result"
    }
   ],
   "source": [
    "tfidf_matrix.shape"
   ]
  },
  {
   "cell_type": "markdown",
   "metadata": {},
   "source": [
    "Ukuran shape dari vector"
   ]
  },
  {
   "cell_type": "code",
   "execution_count": 22,
   "metadata": {
    "colab": {
     "base_uri": "https://localhost:8080/"
    },
    "id": "zYixioWmpDTR",
    "outputId": "57195776-1adb-4392-96a1-f9eab3bc9692"
   },
   "outputs": [
    {
     "name": "stdout",
     "output_type": "stream",
     "text": [
      "  (0, 7)\t0.7071067811865476\n",
      "  (0, 3)\t0.7071067811865476\n",
      "  (1, 0)\t0.7071067811865476\n",
      "  (1, 1)\t0.7071067811865476\n",
      "  (2, 7)\t0.7071067811865476\n",
      "  (2, 3)\t0.7071067811865476\n",
      "  (3, 0)\t0.7071067811865476\n",
      "  (3, 1)\t0.7071067811865476\n",
      "  (4, 0)\t0.7071067811865476\n",
      "  (4, 1)\t0.7071067811865476\n",
      "  (5, 0)\t0.7071067811865476\n",
      "  (5, 1)\t0.7071067811865476\n",
      "  (6, 0)\t0.7071067811865476\n",
      "  (6, 1)\t0.7071067811865476\n",
      "  (7, 0)\t0.7071067811865476\n",
      "  (7, 1)\t0.7071067811865476\n",
      "  (8, 0)\t0.7071067811865476\n",
      "  (8, 1)\t0.7071067811865476\n",
      "  (9, 7)\t0.7071067811865476\n",
      "  (9, 3)\t0.7071067811865476\n",
      "  (10, 7)\t0.7071067811865476\n",
      "  (10, 3)\t0.7071067811865476\n",
      "  (11, 5)\t1.0\n",
      "  (12, 0)\t0.7071067811865476\n",
      "  (12, 1)\t0.7071067811865476\n",
      "  :\t:\n",
      "  (38748, 2)\t1.0\n",
      "  (38749, 0)\t0.7071067811865476\n",
      "  (38749, 1)\t0.7071067811865476\n",
      "  (38750, 2)\t1.0\n",
      "  (38751, 0)\t0.7071067811865476\n",
      "  (38751, 1)\t0.7071067811865476\n",
      "  (38752, 6)\t1.0\n",
      "  (38753, 2)\t1.0\n",
      "  (38754, 0)\t0.7071067811865476\n",
      "  (38754, 1)\t0.7071067811865476\n",
      "  (38755, 6)\t1.0\n",
      "  (38756, 7)\t0.7071067811865476\n",
      "  (38756, 3)\t0.7071067811865476\n",
      "  (38757, 0)\t0.7071067811865476\n",
      "  (38757, 1)\t0.7071067811865476\n",
      "  (38758, 2)\t1.0\n",
      "  (38759, 5)\t1.0\n",
      "  (38760, 2)\t1.0\n",
      "  (38761, 0)\t0.7071067811865476\n",
      "  (38761, 1)\t0.7071067811865476\n",
      "  (38762, 0)\t0.7071067811865476\n",
      "  (38762, 1)\t0.7071067811865476\n",
      "  (38763, 7)\t0.7071067811865476\n",
      "  (38763, 3)\t0.7071067811865476\n",
      "  (38764, 4)\t1.0\n"
     ]
    }
   ],
   "source": [
    "print(tfidf_matrix)"
   ]
  },
  {
   "cell_type": "markdown",
   "metadata": {},
   "source": [
    "Mengihtung tingkat kemiripan menggunakan librray cosine similarity"
   ]
  },
  {
   "cell_type": "code",
   "execution_count": 23,
   "metadata": {
    "id": "wU4Af8mApN5K"
   },
   "outputs": [],
   "source": [
    "cosine_similarity = 1 - pairwise_distances(tfidf_matrix, metric=\"cosine\")"
   ]
  },
  {
   "cell_type": "markdown",
   "metadata": {},
   "source": [
    "Mengihtung tingkat kemiripan menggunakan librray cosine similarity"
   ]
  },
  {
   "cell_type": "code",
   "execution_count": 24,
   "metadata": {
    "id": "o-ROKFatpQ4M"
   },
   "outputs": [
    {
     "data": {
      "text/plain": [
       "(38765, 38765)"
      ]
     },
     "execution_count": 24,
     "metadata": {},
     "output_type": "execute_result"
    }
   ],
   "source": [
    "cosine_similarity.shape"
   ]
  },
  {
   "cell_type": "markdown",
   "metadata": {},
   "source": [
    "Menghasilkan shape baru dari cosine similarity"
   ]
  },
  {
   "cell_type": "code",
   "execution_count": 25,
   "metadata": {
    "id": "clkDRAMppR9X"
   },
   "outputs": [
    {
     "data": {
      "text/html": [
       "<div>\n",
       "<style scoped>\n",
       "    .dataframe tbody tr th:only-of-type {\n",
       "        vertical-align: middle;\n",
       "    }\n",
       "\n",
       "    .dataframe tbody tr th {\n",
       "        vertical-align: top;\n",
       "    }\n",
       "\n",
       "    .dataframe thead th {\n",
       "        text-align: right;\n",
       "    }\n",
       "</style>\n",
       "<table border=\"1\" class=\"dataframe\">\n",
       "  <thead>\n",
       "    <tr style=\"text-align: right;\">\n",
       "      <th></th>\n",
       "      <th>0</th>\n",
       "      <th>1</th>\n",
       "      <th>2</th>\n",
       "      <th>3</th>\n",
       "      <th>4</th>\n",
       "      <th>5</th>\n",
       "      <th>6</th>\n",
       "      <th>7</th>\n",
       "      <th>8</th>\n",
       "      <th>9</th>\n",
       "      <th>...</th>\n",
       "      <th>38755</th>\n",
       "      <th>38756</th>\n",
       "      <th>38757</th>\n",
       "      <th>38758</th>\n",
       "      <th>38759</th>\n",
       "      <th>38760</th>\n",
       "      <th>38761</th>\n",
       "      <th>38762</th>\n",
       "      <th>38763</th>\n",
       "      <th>38764</th>\n",
       "    </tr>\n",
       "  </thead>\n",
       "  <tbody>\n",
       "    <tr>\n",
       "      <th>0</th>\n",
       "      <td>1.0</td>\n",
       "      <td>0.0</td>\n",
       "      <td>1.0</td>\n",
       "      <td>0.0</td>\n",
       "      <td>0.0</td>\n",
       "      <td>0.0</td>\n",
       "      <td>0.0</td>\n",
       "      <td>0.0</td>\n",
       "      <td>0.0</td>\n",
       "      <td>1.0</td>\n",
       "      <td>...</td>\n",
       "      <td>0.0</td>\n",
       "      <td>1.0</td>\n",
       "      <td>0.0</td>\n",
       "      <td>0.0</td>\n",
       "      <td>0.0</td>\n",
       "      <td>0.0</td>\n",
       "      <td>0.0</td>\n",
       "      <td>0.0</td>\n",
       "      <td>1.0</td>\n",
       "      <td>0.0</td>\n",
       "    </tr>\n",
       "    <tr>\n",
       "      <th>1</th>\n",
       "      <td>0.0</td>\n",
       "      <td>1.0</td>\n",
       "      <td>0.0</td>\n",
       "      <td>1.0</td>\n",
       "      <td>1.0</td>\n",
       "      <td>1.0</td>\n",
       "      <td>1.0</td>\n",
       "      <td>1.0</td>\n",
       "      <td>1.0</td>\n",
       "      <td>0.0</td>\n",
       "      <td>...</td>\n",
       "      <td>0.0</td>\n",
       "      <td>0.0</td>\n",
       "      <td>1.0</td>\n",
       "      <td>0.0</td>\n",
       "      <td>0.0</td>\n",
       "      <td>0.0</td>\n",
       "      <td>1.0</td>\n",
       "      <td>1.0</td>\n",
       "      <td>0.0</td>\n",
       "      <td>0.0</td>\n",
       "    </tr>\n",
       "    <tr>\n",
       "      <th>2</th>\n",
       "      <td>1.0</td>\n",
       "      <td>0.0</td>\n",
       "      <td>1.0</td>\n",
       "      <td>0.0</td>\n",
       "      <td>0.0</td>\n",
       "      <td>0.0</td>\n",
       "      <td>0.0</td>\n",
       "      <td>0.0</td>\n",
       "      <td>0.0</td>\n",
       "      <td>1.0</td>\n",
       "      <td>...</td>\n",
       "      <td>0.0</td>\n",
       "      <td>1.0</td>\n",
       "      <td>0.0</td>\n",
       "      <td>0.0</td>\n",
       "      <td>0.0</td>\n",
       "      <td>0.0</td>\n",
       "      <td>0.0</td>\n",
       "      <td>0.0</td>\n",
       "      <td>1.0</td>\n",
       "      <td>0.0</td>\n",
       "    </tr>\n",
       "    <tr>\n",
       "      <th>3</th>\n",
       "      <td>0.0</td>\n",
       "      <td>1.0</td>\n",
       "      <td>0.0</td>\n",
       "      <td>1.0</td>\n",
       "      <td>1.0</td>\n",
       "      <td>1.0</td>\n",
       "      <td>1.0</td>\n",
       "      <td>1.0</td>\n",
       "      <td>1.0</td>\n",
       "      <td>0.0</td>\n",
       "      <td>...</td>\n",
       "      <td>0.0</td>\n",
       "      <td>0.0</td>\n",
       "      <td>1.0</td>\n",
       "      <td>0.0</td>\n",
       "      <td>0.0</td>\n",
       "      <td>0.0</td>\n",
       "      <td>1.0</td>\n",
       "      <td>1.0</td>\n",
       "      <td>0.0</td>\n",
       "      <td>0.0</td>\n",
       "    </tr>\n",
       "    <tr>\n",
       "      <th>4</th>\n",
       "      <td>0.0</td>\n",
       "      <td>1.0</td>\n",
       "      <td>0.0</td>\n",
       "      <td>1.0</td>\n",
       "      <td>1.0</td>\n",
       "      <td>1.0</td>\n",
       "      <td>1.0</td>\n",
       "      <td>1.0</td>\n",
       "      <td>1.0</td>\n",
       "      <td>0.0</td>\n",
       "      <td>...</td>\n",
       "      <td>0.0</td>\n",
       "      <td>0.0</td>\n",
       "      <td>1.0</td>\n",
       "      <td>0.0</td>\n",
       "      <td>0.0</td>\n",
       "      <td>0.0</td>\n",
       "      <td>1.0</td>\n",
       "      <td>1.0</td>\n",
       "      <td>0.0</td>\n",
       "      <td>0.0</td>\n",
       "    </tr>\n",
       "    <tr>\n",
       "      <th>...</th>\n",
       "      <td>...</td>\n",
       "      <td>...</td>\n",
       "      <td>...</td>\n",
       "      <td>...</td>\n",
       "      <td>...</td>\n",
       "      <td>...</td>\n",
       "      <td>...</td>\n",
       "      <td>...</td>\n",
       "      <td>...</td>\n",
       "      <td>...</td>\n",
       "      <td>...</td>\n",
       "      <td>...</td>\n",
       "      <td>...</td>\n",
       "      <td>...</td>\n",
       "      <td>...</td>\n",
       "      <td>...</td>\n",
       "      <td>...</td>\n",
       "      <td>...</td>\n",
       "      <td>...</td>\n",
       "      <td>...</td>\n",
       "      <td>...</td>\n",
       "    </tr>\n",
       "    <tr>\n",
       "      <th>38760</th>\n",
       "      <td>0.0</td>\n",
       "      <td>0.0</td>\n",
       "      <td>0.0</td>\n",
       "      <td>0.0</td>\n",
       "      <td>0.0</td>\n",
       "      <td>0.0</td>\n",
       "      <td>0.0</td>\n",
       "      <td>0.0</td>\n",
       "      <td>0.0</td>\n",
       "      <td>0.0</td>\n",
       "      <td>...</td>\n",
       "      <td>0.0</td>\n",
       "      <td>0.0</td>\n",
       "      <td>0.0</td>\n",
       "      <td>1.0</td>\n",
       "      <td>0.0</td>\n",
       "      <td>1.0</td>\n",
       "      <td>0.0</td>\n",
       "      <td>0.0</td>\n",
       "      <td>0.0</td>\n",
       "      <td>0.0</td>\n",
       "    </tr>\n",
       "    <tr>\n",
       "      <th>38761</th>\n",
       "      <td>0.0</td>\n",
       "      <td>1.0</td>\n",
       "      <td>0.0</td>\n",
       "      <td>1.0</td>\n",
       "      <td>1.0</td>\n",
       "      <td>1.0</td>\n",
       "      <td>1.0</td>\n",
       "      <td>1.0</td>\n",
       "      <td>1.0</td>\n",
       "      <td>0.0</td>\n",
       "      <td>...</td>\n",
       "      <td>0.0</td>\n",
       "      <td>0.0</td>\n",
       "      <td>1.0</td>\n",
       "      <td>0.0</td>\n",
       "      <td>0.0</td>\n",
       "      <td>0.0</td>\n",
       "      <td>1.0</td>\n",
       "      <td>1.0</td>\n",
       "      <td>0.0</td>\n",
       "      <td>0.0</td>\n",
       "    </tr>\n",
       "    <tr>\n",
       "      <th>38762</th>\n",
       "      <td>0.0</td>\n",
       "      <td>1.0</td>\n",
       "      <td>0.0</td>\n",
       "      <td>1.0</td>\n",
       "      <td>1.0</td>\n",
       "      <td>1.0</td>\n",
       "      <td>1.0</td>\n",
       "      <td>1.0</td>\n",
       "      <td>1.0</td>\n",
       "      <td>0.0</td>\n",
       "      <td>...</td>\n",
       "      <td>0.0</td>\n",
       "      <td>0.0</td>\n",
       "      <td>1.0</td>\n",
       "      <td>0.0</td>\n",
       "      <td>0.0</td>\n",
       "      <td>0.0</td>\n",
       "      <td>1.0</td>\n",
       "      <td>1.0</td>\n",
       "      <td>0.0</td>\n",
       "      <td>0.0</td>\n",
       "    </tr>\n",
       "    <tr>\n",
       "      <th>38763</th>\n",
       "      <td>1.0</td>\n",
       "      <td>0.0</td>\n",
       "      <td>1.0</td>\n",
       "      <td>0.0</td>\n",
       "      <td>0.0</td>\n",
       "      <td>0.0</td>\n",
       "      <td>0.0</td>\n",
       "      <td>0.0</td>\n",
       "      <td>0.0</td>\n",
       "      <td>1.0</td>\n",
       "      <td>...</td>\n",
       "      <td>0.0</td>\n",
       "      <td>1.0</td>\n",
       "      <td>0.0</td>\n",
       "      <td>0.0</td>\n",
       "      <td>0.0</td>\n",
       "      <td>0.0</td>\n",
       "      <td>0.0</td>\n",
       "      <td>0.0</td>\n",
       "      <td>1.0</td>\n",
       "      <td>0.0</td>\n",
       "    </tr>\n",
       "    <tr>\n",
       "      <th>38764</th>\n",
       "      <td>0.0</td>\n",
       "      <td>0.0</td>\n",
       "      <td>0.0</td>\n",
       "      <td>0.0</td>\n",
       "      <td>0.0</td>\n",
       "      <td>0.0</td>\n",
       "      <td>0.0</td>\n",
       "      <td>0.0</td>\n",
       "      <td>0.0</td>\n",
       "      <td>0.0</td>\n",
       "      <td>...</td>\n",
       "      <td>0.0</td>\n",
       "      <td>0.0</td>\n",
       "      <td>0.0</td>\n",
       "      <td>0.0</td>\n",
       "      <td>0.0</td>\n",
       "      <td>0.0</td>\n",
       "      <td>0.0</td>\n",
       "      <td>0.0</td>\n",
       "      <td>0.0</td>\n",
       "      <td>1.0</td>\n",
       "    </tr>\n",
       "  </tbody>\n",
       "</table>\n",
       "<p>38765 rows × 38765 columns</p>\n",
       "</div>"
      ],
      "text/plain": [
       "       0      1      2      3      4      5      6      7      8      9       \n",
       "0        1.0    0.0    1.0    0.0    0.0    0.0    0.0    0.0    0.0    1.0  \\\n",
       "1        0.0    1.0    0.0    1.0    1.0    1.0    1.0    1.0    1.0    0.0   \n",
       "2        1.0    0.0    1.0    0.0    0.0    0.0    0.0    0.0    0.0    1.0   \n",
       "3        0.0    1.0    0.0    1.0    1.0    1.0    1.0    1.0    1.0    0.0   \n",
       "4        0.0    1.0    0.0    1.0    1.0    1.0    1.0    1.0    1.0    0.0   \n",
       "...      ...    ...    ...    ...    ...    ...    ...    ...    ...    ...   \n",
       "38760    0.0    0.0    0.0    0.0    0.0    0.0    0.0    0.0    0.0    0.0   \n",
       "38761    0.0    1.0    0.0    1.0    1.0    1.0    1.0    1.0    1.0    0.0   \n",
       "38762    0.0    1.0    0.0    1.0    1.0    1.0    1.0    1.0    1.0    0.0   \n",
       "38763    1.0    0.0    1.0    0.0    0.0    0.0    0.0    0.0    0.0    1.0   \n",
       "38764    0.0    0.0    0.0    0.0    0.0    0.0    0.0    0.0    0.0    0.0   \n",
       "\n",
       "       ...  38755  38756  38757  38758  38759  38760  38761  38762  38763   \n",
       "0      ...    0.0    1.0    0.0    0.0    0.0    0.0    0.0    0.0    1.0  \\\n",
       "1      ...    0.0    0.0    1.0    0.0    0.0    0.0    1.0    1.0    0.0   \n",
       "2      ...    0.0    1.0    0.0    0.0    0.0    0.0    0.0    0.0    1.0   \n",
       "3      ...    0.0    0.0    1.0    0.0    0.0    0.0    1.0    1.0    0.0   \n",
       "4      ...    0.0    0.0    1.0    0.0    0.0    0.0    1.0    1.0    0.0   \n",
       "...    ...    ...    ...    ...    ...    ...    ...    ...    ...    ...   \n",
       "38760  ...    0.0    0.0    0.0    1.0    0.0    1.0    0.0    0.0    0.0   \n",
       "38761  ...    0.0    0.0    1.0    0.0    0.0    0.0    1.0    1.0    0.0   \n",
       "38762  ...    0.0    0.0    1.0    0.0    0.0    0.0    1.0    1.0    0.0   \n",
       "38763  ...    0.0    1.0    0.0    0.0    0.0    0.0    0.0    0.0    1.0   \n",
       "38764  ...    0.0    0.0    0.0    0.0    0.0    0.0    0.0    0.0    0.0   \n",
       "\n",
       "       38764  \n",
       "0        0.0  \n",
       "1        0.0  \n",
       "2        0.0  \n",
       "3        0.0  \n",
       "4        0.0  \n",
       "...      ...  \n",
       "38760    0.0  \n",
       "38761    0.0  \n",
       "38762    0.0  \n",
       "38763    0.0  \n",
       "38764    1.0  \n",
       "\n",
       "[38765 rows x 38765 columns]"
      ]
     },
     "execution_count": 25,
     "metadata": {},
     "output_type": "execute_result"
    }
   ],
   "source": [
    "cs = pd.DataFrame(cosine_similarity)\n",
    "cs"
   ]
  },
  {
   "cell_type": "markdown",
   "metadata": {},
   "source": [
    "Menampilkan hasil dari pemrosesan ke dalam tabel agar mudah memahami, mana nilai yang cocok dan mana yang tidak.\n",
    "Terlihat bahwa beberapa bagian bernilai 1.0 artinya ada kemiripan"
   ]
  },
  {
   "cell_type": "code",
   "execution_count": 27,
   "metadata": {
    "id": "n1iGC010pWWj"
   },
   "outputs": [],
   "source": [
    "def recommend_product(title, cosine_similarity, df, top_n=5):\n",
    "    idx = df[df['itemDescription'] == title].index[0]\n",
    "    similar_animes = cosine_similarity[idx].argsort()[:-top_n-1:-1]\n",
    "    similar_titles = df['itemDescription'].iloc[similar_animes]\n",
    "    similar_genres = df['Category'].iloc[similar_animes]\n",
    "    return similar_titles, similar_genres"
   ]
  },
  {
   "cell_type": "markdown",
   "metadata": {},
   "source": [
    "membuat fungsi untuk menampilkan hasil rekomendasi dari kemiripan barang berdasarkan kategori"
   ]
  },
  {
   "cell_type": "code",
   "execution_count": 28,
   "metadata": {
    "id": "BB7IL6n8pcy2"
   },
   "outputs": [],
   "source": [
    "keyword = 'egg'\n",
    "recommendation_title, recommendation_genre = recommend_product(keyword, cosine_similarity, df)"
   ]
  },
  {
   "cell_type": "markdown",
   "metadata": {},
   "source": [
    "Mengaplikasikan fungsi dengan menggunakan parameter coba 'egg'"
   ]
  },
  {
   "cell_type": "code",
   "execution_count": 29,
   "metadata": {
    "id": "8ba7boYDpfAM"
   },
   "outputs": [
    {
     "data": {
      "text/html": [
       "<div>\n",
       "<style scoped>\n",
       "    .dataframe tbody tr th:only-of-type {\n",
       "        vertical-align: middle;\n",
       "    }\n",
       "\n",
       "    .dataframe tbody tr th {\n",
       "        vertical-align: top;\n",
       "    }\n",
       "\n",
       "    .dataframe thead th {\n",
       "        text-align: right;\n",
       "    }\n",
       "</style>\n",
       "<table border=\"1\" class=\"dataframe\">\n",
       "  <thead>\n",
       "    <tr style=\"text-align: right;\">\n",
       "      <th></th>\n",
       "      <th>Title</th>\n",
       "      <th>Genres</th>\n",
       "    </tr>\n",
       "  </thead>\n",
       "  <tbody>\n",
       "    <tr>\n",
       "      <th>16921</th>\n",
       "      <td>curd</td>\n",
       "      <td>Foodstuffs</td>\n",
       "    </tr>\n",
       "    <tr>\n",
       "      <th>31430</th>\n",
       "      <td>long life bakery product</td>\n",
       "      <td>Foodstuffs</td>\n",
       "    </tr>\n",
       "    <tr>\n",
       "      <th>31447</th>\n",
       "      <td>sauces</td>\n",
       "      <td>Foodstuffs</td>\n",
       "    </tr>\n",
       "    <tr>\n",
       "      <th>21903</th>\n",
       "      <td>frozen dessert</td>\n",
       "      <td>Foodstuffs</td>\n",
       "    </tr>\n",
       "    <tr>\n",
       "      <th>12878</th>\n",
       "      <td>soda</td>\n",
       "      <td>Foodstuffs</td>\n",
       "    </tr>\n",
       "  </tbody>\n",
       "</table>\n",
       "</div>"
      ],
      "text/plain": [
       "                          Title      Genres\n",
       "16921                      curd  Foodstuffs\n",
       "31430  long life bakery product  Foodstuffs\n",
       "31447                    sauces  Foodstuffs\n",
       "21903            frozen dessert  Foodstuffs\n",
       "12878                      soda  Foodstuffs"
      ]
     },
     "execution_count": 29,
     "metadata": {},
     "output_type": "execute_result"
    }
   ],
   "source": [
    "recommendations_df = pd.DataFrame({'Title': recommendation_title, 'Genres': recommendation_genre})\n",
    "recommendations_df"
   ]
  },
  {
   "cell_type": "markdown",
   "metadata": {},
   "source": [
    "Hasilnya akan menampilkan barang berdasarkan kategori yang sama yaitu tentang bahan makanan"
   ]
  }
 ],
 "metadata": {
  "colab": {
   "provenance": []
  },
  "kernelspec": {
   "display_name": "Python 3 (ipykernel)",
   "language": "python",
   "name": "python3"
  },
  "language_info": {
   "codemirror_mode": {
    "name": "ipython",
    "version": 3
   },
   "file_extension": ".py",
   "mimetype": "text/x-python",
   "name": "python",
   "nbconvert_exporter": "python",
   "pygments_lexer": "ipython3",
   "version": "3.9.2"
  }
 },
 "nbformat": 4,
 "nbformat_minor": 4
}
